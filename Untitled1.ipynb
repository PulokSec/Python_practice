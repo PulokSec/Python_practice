{
  "nbformat": 4,
  "nbformat_minor": 0,
  "metadata": {
    "colab": {
      "name": "Untitled1.ipynb",
      "provenance": [],
      "collapsed_sections": [],
      "toc_visible": true,
      "authorship_tag": "ABX9TyNPpBRJxuWN4+mEfltK5VgM",
      "include_colab_link": true
    },
    "kernelspec": {
      "name": "python3",
      "display_name": "Python 3"
    },
    "language_info": {
      "name": "python"
    }
  },
  "cells": [
    {
      "cell_type": "markdown",
      "metadata": {
        "id": "view-in-github",
        "colab_type": "text"
      },
      "source": [
        "<a href=\"https://colab.research.google.com/github/PulokSec/Python_practice/blob/main/Untitled1.ipynb\" target=\"_parent\"><img src=\"https://colab.research.google.com/assets/colab-badge.svg\" alt=\"Open In Colab\"/></a>"
      ]
    },
    {
      "cell_type": "code",
      "metadata": {
        "id": "eS3FxAIR8Cpd"
      },
      "source": [
        "#Description: This is a chat-bot program"
      ],
      "execution_count": null,
      "outputs": []
    },
    {
      "cell_type": "code",
      "metadata": {
        "colab": {
          "base_uri": "https://localhost:8080/"
        },
        "id": "ueBAcper8DlP",
        "outputId": "3e611ab3-f621-44e9-e6e7-2d1f87ecbeff"
      },
      "source": [
        "pip install nltk"
      ],
      "execution_count": 3,
      "outputs": [
        {
          "output_type": "stream",
          "text": [
            "Requirement already satisfied: nltk in /usr/local/lib/python3.7/dist-packages (3.2.5)\n",
            "Requirement already satisfied: six in /usr/local/lib/python3.7/dist-packages (from nltk) (1.15.0)\n"
          ],
          "name": "stdout"
        }
      ]
    },
    {
      "cell_type": "code",
      "metadata": {
        "colab": {
          "base_uri": "https://localhost:8080/"
        },
        "id": "MpDIY4Hi8JnF",
        "outputId": "83f412db-3cfb-426c-c90e-28b7a5dbad23"
      },
      "source": [
        "pip install newspaper3k"
      ],
      "execution_count": 4,
      "outputs": [
        {
          "output_type": "stream",
          "text": [
            "Collecting newspaper3k\n",
            "\u001b[?25l  Downloading https://files.pythonhosted.org/packages/d7/b9/51afecb35bb61b188a4b44868001de348a0e8134b4dfa00ffc191567c4b9/newspaper3k-0.2.8-py3-none-any.whl (211kB)\n",
            "\r\u001b[K     |█▌                              | 10kB 4.9MB/s eta 0:00:01\r\u001b[K     |███                             | 20kB 7.8MB/s eta 0:00:01\r\u001b[K     |████▋                           | 30kB 7.7MB/s eta 0:00:01\r\u001b[K     |██████▏                         | 40kB 7.4MB/s eta 0:00:01\r\u001b[K     |███████▊                        | 51kB 5.2MB/s eta 0:00:01\r\u001b[K     |█████████▎                      | 61kB 5.8MB/s eta 0:00:01\r\u001b[K     |██████████▉                     | 71kB 5.3MB/s eta 0:00:01\r\u001b[K     |████████████▍                   | 81kB 5.5MB/s eta 0:00:01\r\u001b[K     |██████████████                  | 92kB 5.8MB/s eta 0:00:01\r\u001b[K     |███████████████▌                | 102kB 5.7MB/s eta 0:00:01\r\u001b[K     |█████████████████               | 112kB 5.7MB/s eta 0:00:01\r\u001b[K     |██████████████████▋             | 122kB 5.7MB/s eta 0:00:01\r\u001b[K     |████████████████████▏           | 133kB 5.7MB/s eta 0:00:01\r\u001b[K     |█████████████████████▊          | 143kB 5.7MB/s eta 0:00:01\r\u001b[K     |███████████████████████▎        | 153kB 5.7MB/s eta 0:00:01\r\u001b[K     |████████████████████████▉       | 163kB 5.7MB/s eta 0:00:01\r\u001b[K     |██████████████████████████▍     | 174kB 5.7MB/s eta 0:00:01\r\u001b[K     |████████████████████████████    | 184kB 5.7MB/s eta 0:00:01\r\u001b[K     |█████████████████████████████▌  | 194kB 5.7MB/s eta 0:00:01\r\u001b[K     |███████████████████████████████ | 204kB 5.7MB/s eta 0:00:01\r\u001b[K     |████████████████████████████████| 215kB 5.7MB/s \n",
            "\u001b[?25hRequirement already satisfied: PyYAML>=3.11 in /usr/local/lib/python3.7/dist-packages (from newspaper3k) (3.13)\n",
            "Collecting jieba3k>=0.35.1\n",
            "\u001b[?25l  Downloading https://files.pythonhosted.org/packages/a9/cb/2c8332bcdc14d33b0bedd18ae0a4981a069c3513e445120da3c3f23a8aaa/jieba3k-0.35.1.zip (7.4MB)\n",
            "\u001b[K     |████████████████████████████████| 7.4MB 970kB/s \n",
            "\u001b[?25hRequirement already satisfied: python-dateutil>=2.5.3 in /usr/local/lib/python3.7/dist-packages (from newspaper3k) (2.8.1)\n",
            "Collecting tinysegmenter==0.3\n",
            "  Downloading https://files.pythonhosted.org/packages/17/82/86982e4b6d16e4febc79c2a1d68ee3b707e8a020c5d2bc4af8052d0f136a/tinysegmenter-0.3.tar.gz\n",
            "Requirement already satisfied: nltk>=3.2.1 in /usr/local/lib/python3.7/dist-packages (from newspaper3k) (3.2.5)\n",
            "Collecting tldextract>=2.0.1\n",
            "\u001b[?25l  Downloading https://files.pythonhosted.org/packages/7e/62/b6acd3129c5615b9860e670df07fd55b76175b63e6b7f68282c7cad38e9e/tldextract-3.1.0-py2.py3-none-any.whl (87kB)\n",
            "\u001b[K     |████████████████████████████████| 92kB 5.7MB/s \n",
            "\u001b[?25hCollecting feedparser>=5.2.1\n",
            "\u001b[?25l  Downloading https://files.pythonhosted.org/packages/1c/21/faf1bac028662cc8adb2b5ef7a6f3999a765baa2835331df365289b0ca56/feedparser-6.0.2-py3-none-any.whl (80kB)\n",
            "\u001b[K     |████████████████████████████████| 81kB 5.8MB/s \n",
            "\u001b[?25hRequirement already satisfied: Pillow>=3.3.0 in /usr/local/lib/python3.7/dist-packages (from newspaper3k) (7.1.2)\n",
            "Requirement already satisfied: requests>=2.10.0 in /usr/local/lib/python3.7/dist-packages (from newspaper3k) (2.23.0)\n",
            "Collecting cssselect>=0.9.2\n",
            "  Downloading https://files.pythonhosted.org/packages/3b/d4/3b5c17f00cce85b9a1e6f91096e1cc8e8ede2e1be8e96b87ce1ed09e92c5/cssselect-1.1.0-py2.py3-none-any.whl\n",
            "Collecting feedfinder2>=0.0.4\n",
            "  Downloading https://files.pythonhosted.org/packages/35/82/1251fefec3bb4b03fd966c7e7f7a41c9fc2bb00d823a34c13f847fd61406/feedfinder2-0.0.4.tar.gz\n",
            "Requirement already satisfied: beautifulsoup4>=4.4.1 in /usr/local/lib/python3.7/dist-packages (from newspaper3k) (4.6.3)\n",
            "Requirement already satisfied: lxml>=3.6.0 in /usr/local/lib/python3.7/dist-packages (from newspaper3k) (4.2.6)\n",
            "Requirement already satisfied: six>=1.5 in /usr/local/lib/python3.7/dist-packages (from python-dateutil>=2.5.3->newspaper3k) (1.15.0)\n",
            "Requirement already satisfied: filelock>=3.0.8 in /usr/local/lib/python3.7/dist-packages (from tldextract>=2.0.1->newspaper3k) (3.0.12)\n",
            "Collecting requests-file>=1.4\n",
            "  Downloading https://files.pythonhosted.org/packages/77/86/cdb5e8eaed90796aa83a6d9f75cfbd37af553c47a291cd47bc410ef9bdb2/requests_file-1.5.1-py2.py3-none-any.whl\n",
            "Requirement already satisfied: idna in /usr/local/lib/python3.7/dist-packages (from tldextract>=2.0.1->newspaper3k) (2.10)\n",
            "Collecting sgmllib3k\n",
            "  Downloading https://files.pythonhosted.org/packages/9e/bd/3704a8c3e0942d711c1299ebf7b9091930adae6675d7c8f476a7ce48653c/sgmllib3k-1.0.0.tar.gz\n",
            "Requirement already satisfied: certifi>=2017.4.17 in /usr/local/lib/python3.7/dist-packages (from requests>=2.10.0->newspaper3k) (2020.12.5)\n",
            "Requirement already satisfied: chardet<4,>=3.0.2 in /usr/local/lib/python3.7/dist-packages (from requests>=2.10.0->newspaper3k) (3.0.4)\n",
            "Requirement already satisfied: urllib3!=1.25.0,!=1.25.1,<1.26,>=1.21.1 in /usr/local/lib/python3.7/dist-packages (from requests>=2.10.0->newspaper3k) (1.24.3)\n",
            "Building wheels for collected packages: jieba3k, tinysegmenter, feedfinder2, sgmllib3k\n",
            "  Building wheel for jieba3k (setup.py) ... \u001b[?25l\u001b[?25hdone\n",
            "  Created wheel for jieba3k: filename=jieba3k-0.35.1-cp37-none-any.whl size=7398406 sha256=6ee3e89e23895858a32bbca1b108a178dd21f770fc2ef64baa43266f418a1e14\n",
            "  Stored in directory: /root/.cache/pip/wheels/83/15/9c/a3f1f67e7f7181170ad37d32e503c35da20627c013f438ed34\n",
            "  Building wheel for tinysegmenter (setup.py) ... \u001b[?25l\u001b[?25hdone\n",
            "  Created wheel for tinysegmenter: filename=tinysegmenter-0.3-cp37-none-any.whl size=13538 sha256=32a02c7332fb3167ec29411844f183dcd76721157e83e5319634719191d99bc6\n",
            "  Stored in directory: /root/.cache/pip/wheels/81/2b/43/a02ede72324dd40cdd7ca53aad718c7710628e91b8b0dc0f02\n",
            "  Building wheel for feedfinder2 (setup.py) ... \u001b[?25l\u001b[?25hdone\n",
            "  Created wheel for feedfinder2: filename=feedfinder2-0.0.4-cp37-none-any.whl size=3358 sha256=0caecb6f8e94cbde5ba721b1894b943afb518c1d0a88326f18baa9496c154a83\n",
            "  Stored in directory: /root/.cache/pip/wheels/de/03/ca/778e3a7a627e3d98836cc890e7cb40c7575424cfd3340f40ed\n",
            "  Building wheel for sgmllib3k (setup.py) ... \u001b[?25l\u001b[?25hdone\n",
            "  Created wheel for sgmllib3k: filename=sgmllib3k-1.0.0-cp37-none-any.whl size=6067 sha256=507f7d632453cef37f7e480608d9577966f99a49b49d534d380ea1ced51e72cf\n",
            "  Stored in directory: /root/.cache/pip/wheels/f1/80/5a/444ba08a550cdd241bd9baf8bae44be750efe370adb944506a\n",
            "Successfully built jieba3k tinysegmenter feedfinder2 sgmllib3k\n",
            "Installing collected packages: jieba3k, tinysegmenter, requests-file, tldextract, sgmllib3k, feedparser, cssselect, feedfinder2, newspaper3k\n",
            "Successfully installed cssselect-1.1.0 feedfinder2-0.0.4 feedparser-6.0.2 jieba3k-0.35.1 newspaper3k-0.2.8 requests-file-1.5.1 sgmllib3k-1.0.0 tinysegmenter-0.3 tldextract-3.1.0\n"
          ],
          "name": "stdout"
        }
      ]
    },
    {
      "cell_type": "code",
      "metadata": {
        "id": "4G2Nn0C6-AJl"
      },
      "source": [
        "#import libraries\n",
        "from newspaper import Article\n",
        "import random\n",
        "import string\n",
        "import nltk\n",
        "from sklearn.feature_extraction.text import CountVectorizer\n",
        "from sklearn.metrics.pairwise import cosine_similarity\n",
        "import numpy as np\n",
        "import warnings\n",
        "warnings.filterwarnings('ignore')"
      ],
      "execution_count": 6,
      "outputs": []
    },
    {
      "cell_type": "code",
      "metadata": {
        "colab": {
          "base_uri": "https://localhost:8080/"
        },
        "id": "70IbgJeb-Cjs",
        "outputId": "8863c39f-b14d-4971-bb8f-0f4f2e1016fe"
      },
      "source": [
        "#Download \"punkt\" package\n",
        "nltk.download('punkt',quiet=True)"
      ],
      "execution_count": 7,
      "outputs": [
        {
          "output_type": "execute_result",
          "data": {
            "text/plain": [
              "True"
            ]
          },
          "metadata": {
            "tags": []
          },
          "execution_count": 7
        }
      ]
    },
    {
      "cell_type": "code",
      "metadata": {
        "id": "xejj1feF_gpP"
      },
      "source": [
        "#Get Data\n",
        "article = Article('https://www.medicalnewstoday.com/articles/153390')\n",
        "article.download()\n",
        "article.parse()\n",
        "article.nlp()\n",
        "corpus = article.text"
      ],
      "execution_count": 9,
      "outputs": []
    },
    {
      "cell_type": "code",
      "metadata": {
        "colab": {
          "base_uri": "https://localhost:8080/"
        },
        "id": "PYPszHSnAPyO",
        "outputId": "700e7a8e-40b4-4b46-b7e8-714cd3723c89"
      },
      "source": [
        "#Print Data\n",
        "print(corpus)"
      ],
      "execution_count": 10,
      "outputs": [
        {
          "output_type": "stream",
          "text": [
            "Exercise involves engaging in physical activity and increasing the heart rate beyond resting levels. It is an important part of preserving physical and mental health. Whether people engage in light exercise, such as going for a walk, or high intensity activities, for example, uphill cycling or weight training, regular exercise provides a huge range of benefits for the body and mind. Taking part in exercise of any intensity every day is essential for preventing a range of diseases and other health issues. In this article, we explain the different types of exercise and their benefits, as well as the considerations for designing a fitness regime.\n",
            "\n",
            "Types and benefits People divide exercise into three broad categories: aerobic\n",
            "\n",
            "anaerobic\n",
            "\n",
            "agility training We describe each of these categories below. Aerobic exercise Share on Pinterest There are several types of exercise, and they provide a range of benefits for health and well-being. Aerobic exercise aims to improve how the body uses oxygen. Most aerobic exercise takes place at average levels of intensity over longer periods. An aerobic exercise session involves warming up, exercising for at least 20 minutes, and then cooling down. Aerobic exercise mostly uses large muscle groups. Aerobic exercise provides the following benefits: improves muscle strength in the lungs, heart, and whole body\n",
            "\n",
            "lowers blood pressure\n",
            "\n",
            "improves circulation and blood flow in the muscles\n",
            "\n",
            "increases the red blood cell count to enhance oxygen transportation\n",
            "\n",
            "reduces the risk of diabetes, stroke, and cardiovascular disease (CVD)\n",
            "\n",
            "of diabetes, stroke, and cardiovascular disease (CVD) improves life expectancy and symptoms for people with coronary artery diseases\n",
            "\n",
            "and symptoms for people with coronary artery diseases stimulates bone growth and reduces the risk of osteoporosis when at high intensity\n",
            "\n",
            "improves sleep hygiene\n",
            "\n",
            "enhances stamina by increasing the body’s ability to store energy molecules, such as fats and carbohydrates, within muscle Anaerobic exercise Anaerobic exercise does not use oxygen for energy. People use this type of exercise to build power, strength, and muscle mass. These exercises are high-intensity activities that should last no longer than around 2 minutes. Anaerobic exercises include: weightlifting\n",
            "\n",
            "sprinting\n",
            "\n",
            "intensive and fast skipping with a rope\n",
            "\n",
            "interval training\n",
            "\n",
            "isometrics\n",
            "\n",
            "any rapid burst of intense activity While all exercise benefits the heart and lungs, anaerobic exercise provides fewer benefits for cardiovascular health than aerobic exercise and uses fewer calories. However, it is more effective than aerobic exercise for building muscle and improving strength. Increasing muscle mass causes the body to burn more fat, even when resting. Muscle is the most efficient tissue for burning fat in the body. Agility training Agility training aims to improve a person’s ability to maintain control while speeding up, slowing down, and changing direction. In tennis, for example, agility training helps a player maintain control over their court positioning through good recovery after each shot. People who take part in sports that heavily rely on positioning, coordination, speed, and balance need to engage in agility training regularly. The following sports are examples of ones that require agility: tennis\n",
            "\n",
            "American football\n",
            "\n",
            "hockey\n",
            "\n",
            "badminton\n",
            "\n",
            "volleyball\n",
            "\n",
            "basketball\n",
            "\n",
            "soccer\n",
            "\n",
            "martial arts\n",
            "\n",
            "boxing\n",
            "\n",
            "wrestling Stretching and flexibility Share on Pinterest Yoga can help improve a person’s flexibility and relieve stress. Some exercises combine stretching, muscle conditioning, and balance training. A popular and effective example is yoga. Yoga movements improve balance, flexibility, posture, and circulation. The practice originated in India thousands of years ago and aims to unify the mind, body, and spirit. Modern yoga uses a combination of meditation, posture, and breathing exercises to achieve the same goals. A yoga practitioner can tailor a course for individual needs. A person looking to manage arthritis might need gentle stretches to improve mobility and function. Someone with depression, on the other hand, may need more emphasis on the relaxation and deep breathing elements of yoga. Pilates is another stretching option that promotes flexibility and core strength. Tai chi is also an effective option for exercise that promotes calm stretching rather than intensity. Here, learn more about yoga.\n",
            "\n",
            "Finding time to exercise Share on Pinterest Taking the stairs instead of an elevator can be a great way for busy people to meet exercise guidelines. Fitting exercise into a busy schedule can be a roadblock to a successful regime. However, people do not need to dedicate large amounts of extra time to exercise to see the benefits. Here are some tips for fitting physical activity in a busy schedule: See which car journeys you can replace with walking or cycling. Is driving to work necessary? If so, try parking half a mile away from the office and walking the final bit.\n",
            "\n",
            "People who commute to work by public transport could try getting off their bus or train a few stops early and walking the rest of the way.\n",
            "\n",
            "Consider walking up and down the stairs at your office instead of taking elevators or escalators.\n",
            "\n",
            "Try to think about the amount of time spent watching television and avoid binge-watching TV shows. While watching television for extended periods, light exercises, such as stomach crunches or jumping jacks, can help a person include more physical activity in their day.\n",
            "\n",
            "If a person enjoys video games, they could consider playing games that encourage physical activity, such as exercise routines on a Nintendo Wii.\n",
            "\n",
            "Vigorous housework, gardening, and going up and down the stairs while doing chores also qualify as physical activity and can help people meet the guidelines productively. People will likely gain the most benefit from exercises they enjoy that fit their lifestyle. Some of the examples below are the easiest to fit into a daily routine:\n",
            "\n",
            "Go for a brisk 30-minute walk five times every week.\n",
            "\n",
            "Walk your dog more often or go for walks and jogs with friends.\n",
            "\n",
            "Try to add swimming to your weekly routine, even if it is not every day.\n",
            "\n",
            "Join some exercise classes that are fun, collaborative, and educational.\n",
            "\n",
            "Become a member of a martial arts club. Beginner’s sessions can be gentle and fun. Exercise is sometimes a gradual learning curve. A person should spread sessions across the week and scale up the intensity slowly. It is important for people to ensure they drink plenty of water during and after exercise. Checking with a doctor is a good precaution to take if someone has a health condition or injury that could impact exercise levels, or that exercise could make worse. While a combination of aerobic and anaerobic exercise provides the most benefit, any exercise is better than none for people who currently have an inactive lifestyle. Guidelines Current U.S. guidelines recommend that people do one of the following: at least 150–300 minutes of moderate-intensity exercise a week\n",
            "\n",
            "a minimum of 75–150 minutes of vigorous-intensity, aerobic physical activity\n",
            "\n",
            "a combination of the two types of exercise Toward these goals, it is worth remembering that even 10-minute bursts of physical activity during the day provide health benefits.\n"
          ],
          "name": "stdout"
        }
      ]
    },
    {
      "cell_type": "code",
      "metadata": {
        "id": "xynmfCymArY-"
      },
      "source": [
        "#Tokenization\n",
        "text = corpus\n",
        "sentence_list = nltk.sent_tokenize(text) #List of sentences"
      ],
      "execution_count": 11,
      "outputs": []
    },
    {
      "cell_type": "code",
      "metadata": {
        "colab": {
          "base_uri": "https://localhost:8080/"
        },
        "id": "RE_xH7TiA_8x",
        "outputId": "bdf230e1-ee29-4b80-d3ea-74d612cdf326"
      },
      "source": [
        "#Print the data\n",
        "print(sentence_list)"
      ],
      "execution_count": 12,
      "outputs": [
        {
          "output_type": "stream",
          "text": [
            "['Exercise involves engaging in physical activity and increasing the heart rate beyond resting levels.', 'It is an important part of preserving physical and mental health.', 'Whether people engage in light exercise, such as going for a walk, or high intensity activities, for example, uphill cycling or weight training, regular exercise provides a huge range of benefits for the body and mind.', 'Taking part in exercise of any intensity every day is essential for preventing a range of diseases and other health issues.', 'In this article, we explain the different types of exercise and their benefits, as well as the considerations for designing a fitness regime.', 'Types and benefits People divide exercise into three broad categories: aerobic\\n\\nanaerobic\\n\\nagility training We describe each of these categories below.', 'Aerobic exercise Share on Pinterest There are several types of exercise, and they provide a range of benefits for health and well-being.', 'Aerobic exercise aims to improve how the body uses oxygen.', 'Most aerobic exercise takes place at average levels of intensity over longer periods.', 'An aerobic exercise session involves warming up, exercising for at least 20 minutes, and then cooling down.', 'Aerobic exercise mostly uses large muscle groups.', 'Aerobic exercise provides the following benefits: improves muscle strength in the lungs, heart, and whole body\\n\\nlowers blood pressure\\n\\nimproves circulation and blood flow in the muscles\\n\\nincreases the red blood cell count to enhance oxygen transportation\\n\\nreduces the risk of diabetes, stroke, and cardiovascular disease (CVD)\\n\\nof diabetes, stroke, and cardiovascular disease (CVD) improves life expectancy and symptoms for people with coronary artery diseases\\n\\nand symptoms for people with coronary artery diseases stimulates bone growth and reduces the risk of osteoporosis when at high intensity\\n\\nimproves sleep hygiene\\n\\nenhances stamina by increasing the body’s ability to store energy molecules, such as fats and carbohydrates, within muscle Anaerobic exercise Anaerobic exercise does not use oxygen for energy.', 'People use this type of exercise to build power, strength, and muscle mass.', 'These exercises are high-intensity activities that should last no longer than around 2 minutes.', 'Anaerobic exercises include: weightlifting\\n\\nsprinting\\n\\nintensive and fast skipping with a rope\\n\\ninterval training\\n\\nisometrics\\n\\nany rapid burst of intense activity While all exercise benefits the heart and lungs, anaerobic exercise provides fewer benefits for cardiovascular health than aerobic exercise and uses fewer calories.', 'However, it is more effective than aerobic exercise for building muscle and improving strength.', 'Increasing muscle mass causes the body to burn more fat, even when resting.', 'Muscle is the most efficient tissue for burning fat in the body.', 'Agility training Agility training aims to improve a person’s ability to maintain control while speeding up, slowing down, and changing direction.', 'In tennis, for example, agility training helps a player maintain control over their court positioning through good recovery after each shot.', 'People who take part in sports that heavily rely on positioning, coordination, speed, and balance need to engage in agility training regularly.', 'The following sports are examples of ones that require agility: tennis\\n\\nAmerican football\\n\\nhockey\\n\\nbadminton\\n\\nvolleyball\\n\\nbasketball\\n\\nsoccer\\n\\nmartial arts\\n\\nboxing\\n\\nwrestling Stretching and flexibility Share on Pinterest Yoga can help improve a person’s flexibility and relieve stress.', 'Some exercises combine stretching, muscle conditioning, and balance training.', 'A popular and effective example is yoga.', 'Yoga movements improve balance, flexibility, posture, and circulation.', 'The practice originated in India thousands of years ago and aims to unify the mind, body, and spirit.', 'Modern yoga uses a combination of meditation, posture, and breathing exercises to achieve the same goals.', 'A yoga practitioner can tailor a course for individual needs.', 'A person looking to manage arthritis might need gentle stretches to improve mobility and function.', 'Someone with depression, on the other hand, may need more emphasis on the relaxation and deep breathing elements of yoga.', 'Pilates is another stretching option that promotes flexibility and core strength.', 'Tai chi is also an effective option for exercise that promotes calm stretching rather than intensity.', 'Here, learn more about yoga.', 'Finding time to exercise Share on Pinterest Taking the stairs instead of an elevator can be a great way for busy people to meet exercise guidelines.', 'Fitting exercise into a busy schedule can be a roadblock to a successful regime.', 'However, people do not need to dedicate large amounts of extra time to exercise to see the benefits.', 'Here are some tips for fitting physical activity in a busy schedule: See which car journeys you can replace with walking or cycling.', 'Is driving to work necessary?', 'If so, try parking half a mile away from the office and walking the final bit.', 'People who commute to work by public transport could try getting off their bus or train a few stops early and walking the rest of the way.', 'Consider walking up and down the stairs at your office instead of taking elevators or escalators.', 'Try to think about the amount of time spent watching television and avoid binge-watching TV shows.', 'While watching television for extended periods, light exercises, such as stomach crunches or jumping jacks, can help a person include more physical activity in their day.', 'If a person enjoys video games, they could consider playing games that encourage physical activity, such as exercise routines on a Nintendo Wii.', 'Vigorous housework, gardening, and going up and down the stairs while doing chores also qualify as physical activity and can help people meet the guidelines productively.', 'People will likely gain the most benefit from exercises they enjoy that fit their lifestyle.', 'Some of the examples below are the easiest to fit into a daily routine:\\n\\nGo for a brisk 30-minute walk five times every week.', 'Walk your dog more often or go for walks and jogs with friends.', 'Try to add swimming to your weekly routine, even if it is not every day.', 'Join some exercise classes that are fun, collaborative, and educational.', 'Become a member of a martial arts club.', 'Beginner’s sessions can be gentle and fun.', 'Exercise is sometimes a gradual learning curve.', 'A person should spread sessions across the week and scale up the intensity slowly.', 'It is important for people to ensure they drink plenty of water during and after exercise.', 'Checking with a doctor is a good precaution to take if someone has a health condition or injury that could impact exercise levels, or that exercise could make worse.', 'While a combination of aerobic and anaerobic exercise provides the most benefit, any exercise is better than none for people who currently have an inactive lifestyle.', 'Guidelines Current U.S. guidelines recommend that people do one of the following: at least 150–300 minutes of moderate-intensity exercise a week\\n\\na minimum of 75–150 minutes of vigorous-intensity, aerobic physical activity\\n\\na combination of the two types of exercise Toward these goals, it is worth remembering that even 10-minute bursts of physical activity during the day provide health benefits.']\n"
          ],
          "name": "stdout"
        }
      ]
    },
    {
      "cell_type": "code",
      "metadata": {
        "id": "tHOxBndqBPnj"
      },
      "source": [
        "#Random Greeting Response Function\n",
        "def greeting_response(text):\n",
        "    text = text.lower()\n",
        " \n",
        "    #Bots greeting response\n",
        "    bot_greetings = ['Howdy!', 'Hi!', 'Hello!', 'Greetings!']\n",
        " \n",
        "    #User greeting\n",
        "    user_greetings = ['hi', 'hey', 'hello', 'greetings', 'wassup']\n",
        " \n",
        "    for word in text.split():\n",
        "        if word in user_greetings:\n",
        "            return random.choice(bot_greetings)\n",
        "\n",
        "            "
      ],
      "execution_count": 13,
      "outputs": []
    },
    {
      "cell_type": "code",
      "metadata": {
        "id": "nntRnpGSDG6p"
      },
      "source": [
        "def index_sort(list_var):\n",
        "    lenght = len(list_var)\n",
        "    list_index = list(range(0, lenght))\n",
        " \n",
        "    x = list_var\n",
        "    for i in range(lenght):\n",
        "        for j in range(lenght):\n",
        "            if x[list_index[i]] > x[list_index[j]]:\n",
        "                #Swap\n",
        "                temp = list_index[i]\n",
        "                list_index[i] = list_index[j]\n",
        "                list_index[j] = temp\n",
        " \n",
        "    return list_index"
      ],
      "execution_count": 15,
      "outputs": []
    },
    {
      "cell_type": "code",
      "metadata": {
        "id": "vRbRQWsWP7kI"
      },
      "source": [
        "#Bots Response\n",
        "def bot_response(user_input):\n",
        "    user_input = user_input.lower()\n",
        "    sentence_list.append(user_input)\n",
        "    bot_response = ''\n",
        "    cm = CountVectorizer().fit_transform(sentence_list)\n",
        "    similarity_scores = cosine_similarity(cm[-1], cm)\n",
        "    similarity_scores_list = similarity_scores.flatten()\n",
        "    index = index_sort(similarity_scores_list)\n",
        "    index = index[1:]\n",
        "    response_flag = 0\n",
        " \n",
        "    j = 0\n",
        "    for i in range(len(index)):\n",
        "        if similarity_scores_list[index[i]] > 0.0:\n",
        "            bot_response = bot_response+' '+sentence_list[index[i]]\n",
        "            response_flag = 1\n",
        "            j = j+1\n",
        "        if j > 2:\n",
        "            break\n",
        " \n",
        "        if response_flag == 0:\n",
        "            bot_response = bot_response+' '+\"I apologize, I don't understand.\"\n",
        "        sentence_list.remove(user_input)\n",
        " \n",
        "        return bot_response"
      ],
      "execution_count": 27,
      "outputs": []
    },
    {
      "cell_type": "code",
      "metadata": {
        "colab": {
          "base_uri": "https://localhost:8080/",
          "height": 734
        },
        "id": "NXnIPqEyP_xP",
        "outputId": "862143f8-e8f6-4954-8398-1cb1ff3f91b4"
      },
      "source": [
        "#Start the chat\n",
        "print('Doc Bot: Hi I am a Doctor Bot. To exit, type [bye].') \n",
        " \n",
        "exit_list = ['exit', 'see you later', 'bye', 'quit', 'break', 'stop']\n",
        " \n",
        " \n",
        "while(True):\n",
        "    user_input = input()\n",
        "    if user_input.lower() in exit_list:\n",
        "        print('Doc Bot: Chat with you later, and remember... stay safe!')\n",
        "        break\n",
        "    else:\n",
        "        if greeting_response(user_input) != None:\n",
        "            print('Doc Bot: '+greeting_response(user_input))\n",
        "        else:\n",
        "            print('Doc Bot: '+bot_response(user_input))"
      ],
      "execution_count": 28,
      "outputs": [
        {
          "output_type": "stream",
          "text": [
            "Doc Bot: Hi I am a Doctor Bot. To exit, type [bye].\n",
            "হি\n",
            "Doc Bot:  I apologize, I don't understand.\n",
            "hello\n",
            "Doc Bot: Hello!\n",
            "how are you?\n",
            "Doc Bot:  Here are some tips for fitting physical activity in a busy schedule: See which car journeys you can replace with walking or cycling.\n",
            "which car journey?\n",
            "Doc Bot:  Here are some tips for fitting physical activity in a busy schedule: See which car journeys you can replace with walking or cycling.\n",
            "which car journeys you can replace with walking or cycling?\n",
            "Doc Bot:  Here are some tips for fitting physical activity in a busy schedule: See which car journeys you can replace with walking or cycling.\n"
          ],
          "name": "stdout"
        },
        {
          "output_type": "error",
          "ename": "KeyboardInterrupt",
          "evalue": "ignored",
          "traceback": [
            "\u001b[0;31m---------------------------------------------------------------------------\u001b[0m",
            "\u001b[0;31mKeyboardInterrupt\u001b[0m                         Traceback (most recent call last)",
            "\u001b[0;32m/usr/local/lib/python3.7/dist-packages/ipykernel/kernelbase.py\u001b[0m in \u001b[0;36m_input_request\u001b[0;34m(self, prompt, ident, parent, password)\u001b[0m\n\u001b[1;32m    728\u001b[0m             \u001b[0;32mtry\u001b[0m\u001b[0;34m:\u001b[0m\u001b[0;34m\u001b[0m\u001b[0;34m\u001b[0m\u001b[0m\n\u001b[0;32m--> 729\u001b[0;31m                 \u001b[0mident\u001b[0m\u001b[0;34m,\u001b[0m \u001b[0mreply\u001b[0m \u001b[0;34m=\u001b[0m \u001b[0mself\u001b[0m\u001b[0;34m.\u001b[0m\u001b[0msession\u001b[0m\u001b[0;34m.\u001b[0m\u001b[0mrecv\u001b[0m\u001b[0;34m(\u001b[0m\u001b[0mself\u001b[0m\u001b[0;34m.\u001b[0m\u001b[0mstdin_socket\u001b[0m\u001b[0;34m,\u001b[0m \u001b[0;36m0\u001b[0m\u001b[0;34m)\u001b[0m\u001b[0;34m\u001b[0m\u001b[0;34m\u001b[0m\u001b[0m\n\u001b[0m\u001b[1;32m    730\u001b[0m             \u001b[0;32mexcept\u001b[0m \u001b[0mException\u001b[0m\u001b[0;34m:\u001b[0m\u001b[0;34m\u001b[0m\u001b[0;34m\u001b[0m\u001b[0m\n",
            "\u001b[0;32m/usr/local/lib/python3.7/dist-packages/jupyter_client/session.py\u001b[0m in \u001b[0;36mrecv\u001b[0;34m(self, socket, mode, content, copy)\u001b[0m\n\u001b[1;32m    802\u001b[0m         \u001b[0;32mtry\u001b[0m\u001b[0;34m:\u001b[0m\u001b[0;34m\u001b[0m\u001b[0;34m\u001b[0m\u001b[0m\n\u001b[0;32m--> 803\u001b[0;31m             \u001b[0mmsg_list\u001b[0m \u001b[0;34m=\u001b[0m \u001b[0msocket\u001b[0m\u001b[0;34m.\u001b[0m\u001b[0mrecv_multipart\u001b[0m\u001b[0;34m(\u001b[0m\u001b[0mmode\u001b[0m\u001b[0;34m,\u001b[0m \u001b[0mcopy\u001b[0m\u001b[0;34m=\u001b[0m\u001b[0mcopy\u001b[0m\u001b[0;34m)\u001b[0m\u001b[0;34m\u001b[0m\u001b[0;34m\u001b[0m\u001b[0m\n\u001b[0m\u001b[1;32m    804\u001b[0m         \u001b[0;32mexcept\u001b[0m \u001b[0mzmq\u001b[0m\u001b[0;34m.\u001b[0m\u001b[0mZMQError\u001b[0m \u001b[0;32mas\u001b[0m \u001b[0me\u001b[0m\u001b[0;34m:\u001b[0m\u001b[0;34m\u001b[0m\u001b[0;34m\u001b[0m\u001b[0m\n",
            "\u001b[0;32m/usr/local/lib/python3.7/dist-packages/zmq/sugar/socket.py\u001b[0m in \u001b[0;36mrecv_multipart\u001b[0;34m(self, flags, copy, track)\u001b[0m\n\u001b[1;32m    582\u001b[0m         \"\"\"\n\u001b[0;32m--> 583\u001b[0;31m         \u001b[0mparts\u001b[0m \u001b[0;34m=\u001b[0m \u001b[0;34m[\u001b[0m\u001b[0mself\u001b[0m\u001b[0;34m.\u001b[0m\u001b[0mrecv\u001b[0m\u001b[0;34m(\u001b[0m\u001b[0mflags\u001b[0m\u001b[0;34m,\u001b[0m \u001b[0mcopy\u001b[0m\u001b[0;34m=\u001b[0m\u001b[0mcopy\u001b[0m\u001b[0;34m,\u001b[0m \u001b[0mtrack\u001b[0m\u001b[0;34m=\u001b[0m\u001b[0mtrack\u001b[0m\u001b[0;34m)\u001b[0m\u001b[0;34m]\u001b[0m\u001b[0;34m\u001b[0m\u001b[0;34m\u001b[0m\u001b[0m\n\u001b[0m\u001b[1;32m    584\u001b[0m         \u001b[0;31m# have first part already, only loop while more to receive\u001b[0m\u001b[0;34m\u001b[0m\u001b[0;34m\u001b[0m\u001b[0;34m\u001b[0m\u001b[0m\n",
            "\u001b[0;32mzmq/backend/cython/socket.pyx\u001b[0m in \u001b[0;36mzmq.backend.cython.socket.Socket.recv\u001b[0;34m()\u001b[0m\n",
            "\u001b[0;32mzmq/backend/cython/socket.pyx\u001b[0m in \u001b[0;36mzmq.backend.cython.socket.Socket.recv\u001b[0;34m()\u001b[0m\n",
            "\u001b[0;32mzmq/backend/cython/socket.pyx\u001b[0m in \u001b[0;36mzmq.backend.cython.socket._recv_copy\u001b[0;34m()\u001b[0m\n",
            "\u001b[0;32m/usr/local/lib/python3.7/dist-packages/zmq/backend/cython/checkrc.pxd\u001b[0m in \u001b[0;36mzmq.backend.cython.checkrc._check_rc\u001b[0;34m()\u001b[0m\n",
            "\u001b[0;31mKeyboardInterrupt\u001b[0m: ",
            "\nDuring handling of the above exception, another exception occurred:\n",
            "\u001b[0;31mKeyboardInterrupt\u001b[0m                         Traceback (most recent call last)",
            "\u001b[0;32m<ipython-input-28-a3807c82d70a>\u001b[0m in \u001b[0;36m<module>\u001b[0;34m()\u001b[0m\n\u001b[1;32m      6\u001b[0m \u001b[0;34m\u001b[0m\u001b[0m\n\u001b[1;32m      7\u001b[0m \u001b[0;32mwhile\u001b[0m\u001b[0;34m(\u001b[0m\u001b[0;32mTrue\u001b[0m\u001b[0;34m)\u001b[0m\u001b[0;34m:\u001b[0m\u001b[0;34m\u001b[0m\u001b[0;34m\u001b[0m\u001b[0m\n\u001b[0;32m----> 8\u001b[0;31m     \u001b[0muser_input\u001b[0m \u001b[0;34m=\u001b[0m \u001b[0minput\u001b[0m\u001b[0;34m(\u001b[0m\u001b[0;34m)\u001b[0m\u001b[0;34m\u001b[0m\u001b[0;34m\u001b[0m\u001b[0m\n\u001b[0m\u001b[1;32m      9\u001b[0m     \u001b[0;32mif\u001b[0m \u001b[0muser_input\u001b[0m\u001b[0;34m.\u001b[0m\u001b[0mlower\u001b[0m\u001b[0;34m(\u001b[0m\u001b[0;34m)\u001b[0m \u001b[0;32min\u001b[0m \u001b[0mexit_list\u001b[0m\u001b[0;34m:\u001b[0m\u001b[0;34m\u001b[0m\u001b[0;34m\u001b[0m\u001b[0m\n\u001b[1;32m     10\u001b[0m         \u001b[0mprint\u001b[0m\u001b[0;34m(\u001b[0m\u001b[0;34m'Doc Bot: Chat with you later, and remember... stay safe!'\u001b[0m\u001b[0;34m)\u001b[0m\u001b[0;34m\u001b[0m\u001b[0;34m\u001b[0m\u001b[0m\n",
            "\u001b[0;32m/usr/local/lib/python3.7/dist-packages/ipykernel/kernelbase.py\u001b[0m in \u001b[0;36mraw_input\u001b[0;34m(self, prompt)\u001b[0m\n\u001b[1;32m    702\u001b[0m             \u001b[0mself\u001b[0m\u001b[0;34m.\u001b[0m\u001b[0m_parent_ident\u001b[0m\u001b[0;34m,\u001b[0m\u001b[0;34m\u001b[0m\u001b[0;34m\u001b[0m\u001b[0m\n\u001b[1;32m    703\u001b[0m             \u001b[0mself\u001b[0m\u001b[0;34m.\u001b[0m\u001b[0m_parent_header\u001b[0m\u001b[0;34m,\u001b[0m\u001b[0;34m\u001b[0m\u001b[0;34m\u001b[0m\u001b[0m\n\u001b[0;32m--> 704\u001b[0;31m             \u001b[0mpassword\u001b[0m\u001b[0;34m=\u001b[0m\u001b[0;32mFalse\u001b[0m\u001b[0;34m,\u001b[0m\u001b[0;34m\u001b[0m\u001b[0;34m\u001b[0m\u001b[0m\n\u001b[0m\u001b[1;32m    705\u001b[0m         )\n\u001b[1;32m    706\u001b[0m \u001b[0;34m\u001b[0m\u001b[0m\n",
            "\u001b[0;32m/usr/local/lib/python3.7/dist-packages/ipykernel/kernelbase.py\u001b[0m in \u001b[0;36m_input_request\u001b[0;34m(self, prompt, ident, parent, password)\u001b[0m\n\u001b[1;32m    732\u001b[0m             \u001b[0;32mexcept\u001b[0m \u001b[0mKeyboardInterrupt\u001b[0m\u001b[0;34m:\u001b[0m\u001b[0;34m\u001b[0m\u001b[0;34m\u001b[0m\u001b[0m\n\u001b[1;32m    733\u001b[0m                 \u001b[0;31m# re-raise KeyboardInterrupt, to truncate traceback\u001b[0m\u001b[0;34m\u001b[0m\u001b[0;34m\u001b[0m\u001b[0;34m\u001b[0m\u001b[0m\n\u001b[0;32m--> 734\u001b[0;31m                 \u001b[0;32mraise\u001b[0m \u001b[0mKeyboardInterrupt\u001b[0m\u001b[0;34m\u001b[0m\u001b[0;34m\u001b[0m\u001b[0m\n\u001b[0m\u001b[1;32m    735\u001b[0m             \u001b[0;32melse\u001b[0m\u001b[0;34m:\u001b[0m\u001b[0;34m\u001b[0m\u001b[0;34m\u001b[0m\u001b[0m\n\u001b[1;32m    736\u001b[0m                 \u001b[0;32mbreak\u001b[0m\u001b[0;34m\u001b[0m\u001b[0;34m\u001b[0m\u001b[0m\n",
            "\u001b[0;31mKeyboardInterrupt\u001b[0m: "
          ]
        }
      ]
    }
  ]
}